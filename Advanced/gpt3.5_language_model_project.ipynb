{
 "cells": [
  {
   "cell_type": "markdown",
   "metadata": {},
   "source": [
    "# Exploring GPT-3.5 for Context-Aware Language Generation and Prompt Engineering\n",
    "\n",
    "This project explores the capabilities of OpenAI's GPT-3.5 in understanding and generating human-like text. We will examine its performance on various NLP tasks, such as summarization, question answering, creativity, and contextual reasoning."
   ]
  },
  {
   "cell_type": "code",
   "execution_count": null,
   "metadata": {},
   "outputs": [],
   "source": [
    "# Install OpenAI SDK\n",
    "!pip install openai"
   ]
  },
  {
   "cell_type": "code",
   "execution_count": null,
   "metadata": {},
   "outputs": [],
   "source": [
    "# Import necessary libraries\n",
    "import openai\n",
    "import pandas as pd\n",
    "import matplotlib.pyplot as plt\n",
    "import seaborn as sns"
   ]
  },
  {
   "cell_type": "code",
   "execution_count": null,
   "metadata": {},
   "outputs": [],
   "source": [
    "# Set your OpenAI API key\n",
    "openai.api_key = \"*********************************\" "
   ]
  },
  {
   "cell_type": "code",
   "execution_count": null,
   "metadata": {},
   "outputs": [],
   "source": [
    "# Function to generate text using GPT-3.5\n",
    "def generate_response(prompt, temperature=0.7, max_tokens=100):\n",
    "    response = openai.Completion.create(\n",
    "        engine=\"text-davinci-003\",\n",
    "        prompt=prompt,\n",
    "        temperature=temperature,\n",
    "        max_tokens=max_tokens\n",
    "    )\n",
    "    return response['choices'][0]['text'].strip()"
   ]
  },
  {
   "cell_type": "markdown",
   "metadata": {},
   "source": [
    "### Creative Text Generation"
   ]
  },
  {
   "cell_type": "code",
   "execution_count": null,
   "metadata": {},
   "outputs": [],
   "source": [
    "prompt = \"Write a short story about a robot who wants to become a poet.\"\n",
    "print(generate_response(prompt))"
   ]
  },
  {
   "cell_type": "markdown",
   "metadata": {},
   "source": [
    "### Contextual Question Answering"
   ]
  },
  {
   "cell_type": "code",
   "execution_count": null,
   "metadata": {},
   "outputs": [],
   "source": [
    "prompt = \"Answer the following question: What causes the seasons on Earth?\"\n",
    "print(generate_response(prompt))"
   ]
  },
  {
   "cell_type": "markdown",
   "metadata": {},
   "source": [
    "### Summarization Task"
   ]
  },
  {
   "cell_type": "code",
   "execution_count": null,
   "metadata": {},
   "outputs": [],
   "source": [
    "text = \"\"\"\n",
    "Artificial Intelligence (AI) is transforming industries. From healthcare to finance, AI algorithms analyze data, automate tasks, and provide insights. However, ethical concerns such as bias and transparency remain critical.\n",
    "\"\"\"\n",
    "prompt = f\"Summarize the following text:\\n{text}\"\n",
    "print(generate_response(prompt))"
   ]
  },
  {
   "cell_type": "markdown",
   "metadata": {},
   "source": [
    "### Research Questions\n",
    "- How coherent and factually correct are GPT-3.5’s answers in different contexts?\n",
    "- How sensitive is the model to prompt phrasing?\n",
    "- Can GPT-3.5 maintain consistency across a dialogue or sequence of prompts?"
   ]
  },
  {
   "cell_type": "markdown",
   "metadata": {},
   "source": [
    "### Visualization of Clarity Score (Hypothetical Data)"
   ]
  },
  {
   "cell_type": "code",
   "execution_count": null,
   "metadata": {},
   "outputs": [],
   "source": [
    "results = {\n",
    "    \"Task\": [\"Story\", \"Q&A\", \"Summary\"],\n",
    "    \"Tokens Used\": [75, 50, 60],\n",
    "    \"Clarity Score\": [8, 9, 7]  # Hypothetical user rating\n",
    "}\n",
    "\n",
    "df = pd.DataFrame(results)\n",
    "sns.barplot(x=\"Task\", y=\"Clarity Score\", data=df)\n",
    "plt.title(\"Clarity of GPT-3.5 Responses by Task\")\n",
    "plt.show()"
   ]
  },
  {
   "cell_type": "markdown",
   "metadata": {},
   "source": [
    "### Conclusion\n",
    "GPT-3.5 demonstrates remarkable capabilities in text generation, contextual understanding, and summarization. However, factual reliability and consistency can vary depending on prompt design. This highlights the importance of thoughtful prompt engineering and ethical considerations in AI deployment."
   ]
  }
 ],
 "metadata": {
  "kernelspec": {
   "display_name": "Python 3",
   "language": "python",
   "name": "python3"
  },
  "language_info": {
   "name": "python",
   "version": "3.9"
  }
 },
 "nbformat": 4,
 "nbformat_minor": 5
}
